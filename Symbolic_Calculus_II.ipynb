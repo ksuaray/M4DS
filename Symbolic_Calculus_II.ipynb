{
  "nbformat": 4,
  "nbformat_minor": 0,
  "metadata": {
    "colab": {
      "provenance": []
    },
    "kernelspec": {
      "name": "python3",
      "display_name": "Python 3"
    },
    "language_info": {
      "name": "python"
    }
  },
  "cells": [
    {
      "cell_type": "markdown",
      "source": [
        "# ✨ Symbolic Differentiation and Integration with SymPy\n",
        "\n",
        "In this notebook, you'll practice finding derivatives, solving for critical points, and performing symbolic integration.\n",
        "\n",
        "Each activity includes explanations and a practice section where you can modify the code.\n"
      ],
      "metadata": {
        "id": "8pZDVe_ICl0h"
      }
    },
    {
      "cell_type": "code",
      "source": [
        "from sympy import symbols, limit, simplify, integrate, diff, solve, sin, cos, exp, pi\n",
        "\n",
        "# Declare symbolic variables\n",
        "x, y = symbols('x y')\n",
        "print(\"Declared symbols:\", x, y)"
      ],
      "metadata": {
        "id": "bGs-vQM4Cpmy",
        "colab": {
          "base_uri": "https://localhost:8080/"
        },
        "outputId": "fede523d-433a-448f-a477-5ae52e14c000"
      },
      "execution_count": null,
      "outputs": [
        {
          "output_type": "stream",
          "name": "stdout",
          "text": [
            "Declared symbols: x y\n"
          ]
        }
      ]
    },
    {
      "cell_type": "markdown",
      "source": [
        "### 🧪 Try It Yourself\n",
        "- Add a new symbol `z`\n",
        "- Try using `symbols('a b c')` to create multiple symbols at once\n"
      ],
      "metadata": {
        "id": "r1qgb8yhCv4-"
      }
    },
    {
      "cell_type": "markdown",
      "source": [
        "## 🚩 Activity 1: Polynomial Derivatives and Critical Points\n",
        "\n",
        "We'll define a polynomial, take its derivatives, and solve for critical points (where the derivative is 0).\n"
      ],
      "metadata": {
        "id": "Sq7jC0dEEyAe"
      }
    },
    {
      "cell_type": "code",
      "source": [
        "# Define a polynomial\n",
        "f = x**3 - 3*x**2 + 4*x - 2\n",
        "\n",
        "# Derivatives\n",
        "first_derivative = diff(f, x)\n",
        "second_derivative = diff(f, x, 2)\n",
        "print(\"First derivative:\", first_derivative)\n",
        "print(\"Second derivative:\", second_derivative)\n",
        "\n",
        "# Solve for critical points\n",
        "critical_points = solve(first_derivative, x)\n",
        "print(\"Critical points:\", critical_points)\n",
        "\n",
        "# Evaluate derivative at x = 1\n",
        "value_at_1 = first_derivative.subs(x, 1)\n",
        "print(\"f'(1) =\", value_at_1)\n"
      ],
      "metadata": {
        "colab": {
          "base_uri": "https://localhost:8080/"
        },
        "id": "XP23Wb_-EzUf",
        "outputId": "918c7aa9-63f8-4c39-a648-0b7b1e503ff1"
      },
      "execution_count": null,
      "outputs": [
        {
          "output_type": "stream",
          "name": "stdout",
          "text": [
            "First derivative: 3*x**2 - 6*x + 4\n",
            "Second derivative: 6*(x - 1)\n",
            "Critical points: [1 - sqrt(3)*I/3, 1 + sqrt(3)*I/3]\n",
            "f'(1) = 1\n"
          ]
        }
      ]
    },
    {
      "cell_type": "markdown",
      "source": [
        "## 📐 Activity 2: Trigonometric and Exponential Derivatives\n",
        "\n",
        "Let's try differentiating a function that includes sine, cosine, and exponential terms.\n"
      ],
      "metadata": {
        "id": "CbKn-arbE80R"
      }
    },
    {
      "cell_type": "code",
      "source": [
        "g = sin(x) + cos(x)\n",
        "\n",
        "first_derivative_g = diff(g, x)\n",
        "second_derivative_g = diff(g, x, 2)\n",
        "print(\"First derivative of g:\", first_derivative_g)\n",
        "print(\"Second derivative of g:\", second_derivative_g)\n",
        "\n",
        "critical_points_g = solve(first_derivative_g, x)\n",
        "print(\"Critical points of g:\", critical_points_g)"
      ],
      "metadata": {
        "id": "030TS17OE8qq",
        "colab": {
          "base_uri": "https://localhost:8080/"
        },
        "outputId": "9525bd92-9780-404a-d17c-e1ccfa3d098d"
      },
      "execution_count": null,
      "outputs": [
        {
          "output_type": "stream",
          "name": "stdout",
          "text": [
            "First derivative of g: -sin(x) + cos(x)\n",
            "Second derivative of g: -(sin(x) + cos(x))\n",
            "Critical points of g: [pi/4]\n"
          ]
        }
      ]
    },
    {
      "cell_type": "markdown",
      "source": [
        "**What happen?**"
      ],
      "metadata": {
        "id": "_Tj_YHT4F-d1"
      }
    },
    {
      "cell_type": "markdown",
      "source": [
        "## 📏 Activity 3: Symbolic Integration\n",
        "\n",
        "We’ll integrate a polynomial both symbolically and with limits (definite integration).\n"
      ],
      "metadata": {
        "id": "YG0UANpoDFuq"
      }
    },
    {
      "cell_type": "code",
      "source": [
        "h = x**2 + 3*x + 2\n",
        "\n",
        "# Indefinite integral\n",
        "integral_h = integrate(h, x)\n",
        "print(\"∫h dx =\", integral_h)\n",
        "\n",
        "# Definite integral from x = 0 to 2\n",
        "definite_integral_h = integrate(h, (x, 0, pi))\n",
        "print(\"∫(0 to 2) h dx =\", definite_integral_h)"
      ],
      "metadata": {
        "id": "6Xz2W-JvDISI"
      },
      "execution_count": null,
      "outputs": []
    },
    {
      "cell_type": "markdown",
      "source": [],
      "metadata": {
        "id": "Pcx3HLuYE7lT"
      }
    },
    {
      "cell_type": "markdown",
      "source": [
        "### 🧪 Try It Yourself\n",
        "- Try integrating `h = exp(x)` from x = 0 to 1\n",
        "- What happens when you integrate `sin(x)` from 0 to π?\n"
      ],
      "metadata": {
        "id": "ql26mnXnDMEC"
      }
    }
  ]
}