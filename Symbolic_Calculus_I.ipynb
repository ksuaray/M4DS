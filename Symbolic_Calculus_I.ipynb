{
  "nbformat": 4,
  "nbformat_minor": 0,
  "metadata": {
    "colab": {
      "provenance": []
    },
    "kernelspec": {
      "name": "python3",
      "display_name": "Python 3"
    },
    "language_info": {
      "name": "python"
    }
  },
  "cells": [
    {
      "cell_type": "markdown",
      "source": [
        "# 🧠 Symbolic Calculus Practice with SymPy\n",
        "\n",
        "This notebook introduces symbolic computation using **SymPy** in Python.  \n",
        "We will explore algebraic simplification, differentiation, substitution, and symbolic limits.\n",
        "\n",
        "Each section includes explanations and editable code blocks so you can try your own expressions.\n"
      ],
      "metadata": {
        "id": "baNOtkj0g-w4"
      }
    },
    {
      "cell_type": "code",
      "execution_count": null,
      "metadata": {
        "id": "v1KNK_iLIeIG"
      },
      "outputs": [],
      "source": [
        "import importlib.util\n",
        "import sys\n",
        "import subprocess\n",
        "\n",
        "# Function to install packages if missing\n",
        "def install_if_missing(package):\n",
        "    if importlib.util.find_spec(package) is None:\n",
        "        subprocess.check_call([sys.executable, \"-m\", \"pip\", \"install\", package])\n",
        "\n",
        "# Install SymPy if not installed\n",
        "install_if_missing('sympy')\n"
      ]
    },
    {
      "cell_type": "markdown",
      "source": [
        "## ✏️ Activity 1: Declaring Symbols and Performing Basic Operations\n",
        "\n",
        "We'll start by declaring symbolic variables and performing basic operations like addition and multiplication.\n"
      ],
      "metadata": {
        "id": "-MIkyHfkhUZw"
      }
    },
    {
      "cell_type": "code",
      "source": [
        "from sympy import symbols, simplify, factor\n",
        "\n",
        "# Declare symbolic variables x and y\n",
        "x, y = symbols('x y')  # Declare x and y as symbols for symbolic math\n",
        "print(\"Declared symbols:\", x, y)\n",
        "\n",
        "# Arithmetic expressions\n",
        "sum_expr = x + y\n",
        "product_expr = x * y\n",
        "print(\"Sum:\", sum_expr)         # Output: x + y\n",
        "print(\"Product:\", product_expr) # Output: x*y\n"
      ],
      "metadata": {
        "colab": {
          "base_uri": "https://localhost:8080/"
        },
        "id": "yS3IkAnWhWFD",
        "outputId": "87f2a16c-5084-4cce-c878-b0e643c254cf"
      },
      "execution_count": null,
      "outputs": [
        {
          "output_type": "stream",
          "name": "stdout",
          "text": [
            "Declared symbols: x y\n",
            "Sum: x + y\n",
            "Product: x*y\n"
          ]
        }
      ]
    },
    {
      "cell_type": "markdown",
      "source": [
        "### 🧪 Try It Yourself\n",
        "\n",
        "- Create three new symbols `a`, `b`, `c`.\n",
        "- Compute the expression: `(a + b) * c`\n",
        "- What is the result of `a*b + b*a + a**2`? Can you simplify it?\n"
      ],
      "metadata": {
        "id": "6mrPhEykh0bQ"
      }
    },
    {
      "cell_type": "markdown",
      "source": [
        "## 🔍 Activity 2: Simplify and Factor an Expression\n",
        "\n",
        "Let's simplify and factor a polynomial expression.\n",
        "You can change the expression and see how it behaves!\n"
      ],
      "metadata": {
        "id": "ExqwJX-shfOu"
      }
    },
    {
      "cell_type": "code",
      "source": [
        "from sympy import simplify, factor\n",
        "\n",
        "expr = x**2 + 2*x*y + y**2\n",
        "simplified_expr = simplify(expr)\n",
        "print(\"Simplified expression:\", simplified_expr)\n",
        "\n",
        "factoring_expr = factor(expr)\n",
        "print(\"Factored expression:\", factoring_expr)"
      ],
      "metadata": {
        "colab": {
          "base_uri": "https://localhost:8080/"
        },
        "id": "8R0xkRw-iEjk",
        "outputId": "ab157f64-58ef-4b7f-9167-d80ccdef2df0"
      },
      "execution_count": null,
      "outputs": [
        {
          "output_type": "stream",
          "name": "stdout",
          "text": [
            "Simplified expression: x**2 + 2*x*y + y**2\n",
            "Factored expression: (x + y)**2\n"
          ]
        }
      ]
    },
    {
      "cell_type": "markdown",
      "source": [
        "### 🧪 Try It Yourself\n",
        "\n",
        "- Try simplifying and factoring the expression: `x**2 - 4`\n",
        "- What about `x**3 + 3*x**2 + 3*x + 1`?\n",
        "- Can you create your own expression and try simplifying it?\n"
      ],
      "metadata": {
        "id": "ZgEBoEzwiLVa"
      }
    },
    {
      "cell_type": "markdown",
      "source": [
        "## 🔄 Activity 3: Substitution\n",
        "\n",
        "We can substitute specific values into symbolic expressions.\n",
        "Try changing the values of `x` and `y` to see how the output changes.\n"
      ],
      "metadata": {
        "id": "SjVUyHuTiNah"
      }
    },
    {
      "cell_type": "code",
      "source": [
        "expr = x**2 + 2*x*y + y**2\n",
        "evaluated_expr = expr.subs(x, 1)\n",
        "print(\"Expression after substituting x=1:\", evaluated_expr)\n",
        "\n",
        "evaluated_expr2 = expr.subs({x: 1, y: 2})\n",
        "print(\"Expression after substituting x=1 and y=2:\", evaluated_expr2)"
      ],
      "metadata": {
        "colab": {
          "base_uri": "https://localhost:8080/"
        },
        "id": "Tsusf0l-iMcg",
        "outputId": "ecb0300e-eb61-4f73-e689-f7d1bb5f589b"
      },
      "execution_count": null,
      "outputs": [
        {
          "output_type": "stream",
          "name": "stdout",
          "text": [
            "Expression after substituting x=1: y**2 + 2*y + 1\n",
            "Expression after substituting x=1 and y=2: 9\n"
          ]
        }
      ]
    },
    {
      "cell_type": "markdown",
      "source": [
        "### 🧪 Try It Yourself\n",
        "\n",
        "- Use your own expression, like `x**2 + y**2`, and substitute x=3, y=4.\n",
        "- Try substituting symbolic values: what happens if you substitute y = 2*x?\n"
      ],
      "metadata": {
        "id": "eGsKRZOeibMi"
      }
    },
    {
      "cell_type": "markdown",
      "source": [
        "## 🚀 Activity 4: Derivatives and Limits\n",
        "\n",
        "In this section, we'll calculate the derivative and limit of symbolic expressions.\n"
      ],
      "metadata": {
        "id": "zhUkqAGpic6r"
      }
    },
    {
      "cell_type": "code",
      "source": [
        "from sympy import limit, diff\n",
        "\n",
        "f = x**3 - 3*x**2 + 4*x - 2\n",
        "\n",
        "limit_expr = limit(expr, x, 0)\n",
        "print(\"Limit of expr as x → 0:\", limit_expr)\n",
        "\n",
        "first_derivative = diff(f, x)\n",
        "second_derivative = diff(f, x, 2)\n",
        "print(\"First derivative:\", first_derivative)\n",
        "print(\"Second derivative:\", second_derivative)\n",
        "\n",
        "value_at_1 = first_derivative.subs(x, 1)\n",
        "print(\"First derivative at x=1:\", value_at_1)"
      ],
      "metadata": {
        "colab": {
          "base_uri": "https://localhost:8080/"
        },
        "id": "hz3tAiLPifsE",
        "outputId": "83d701eb-8c7a-4965-ffcc-83d832bf2c80"
      },
      "execution_count": null,
      "outputs": [
        {
          "output_type": "stream",
          "name": "stdout",
          "text": [
            "Limit of expr as x → 0: y**2\n",
            "First derivative: 3*x**2 - 6*x + 4\n",
            "Second derivative: 6*(x - 1)\n",
            "First derivative at x=1: 1\n"
          ]
        }
      ]
    },
    {
      "cell_type": "markdown",
      "source": [
        "### 🧪 Try It Yourself\n",
        "\n",
        "- Try differentiating `f = x**4 - 5*x**2 + 6`\n",
        "- What happens if you differentiate `f = x**5 + 3*x` twice?\n",
        "- Can you evaluate the derivative at x = 2?\n"
      ],
      "metadata": {
        "id": "mviT4duXilZZ"
      }
    },
    {
      "cell_type": "markdown",
      "source": [
        "## 🧮 Activity 5: Trigonometric and Exponential Derivatives\n",
        "\n",
        "Let's try differentiating functions that include `sin`, `cos`, and `exp`.\n"
      ],
      "metadata": {
        "id": "acCYLzJTisyn"
      }
    },
    {
      "cell_type": "code",
      "source": [
        "from sympy import sin, cos, exp\n",
        "\n",
        "g = sin(x) + cos(x) + exp(x)\n",
        "\n",
        "first_derivative_g = diff(g, x)\n",
        "second_derivative_g = diff(g, x, 2)\n",
        "\n",
        "print(\"First derivative of g:\", first_derivative_g)\n",
        "print(\"Second derivative of g:\", second_derivative_g)\n",
        "\n",
        "value_at_0 = first_derivative_g.subs(x, 0)\n",
        "print(\"First derivative of g at x=0:\", value_at_0)"
      ],
      "metadata": {
        "colab": {
          "base_uri": "https://localhost:8080/"
        },
        "id": "47RKOpn1isJL",
        "outputId": "1876cb48-2c80-465b-9bda-8cf9f64d7500"
      },
      "execution_count": null,
      "outputs": [
        {
          "output_type": "stream",
          "name": "stdout",
          "text": [
            "First derivative of g: exp(x) - sin(x) + cos(x)\n",
            "Second derivative of g: exp(x) - sin(x) - cos(x)\n",
            "First derivative of g at x=0: 2\n"
          ]
        }
      ]
    },
    {
      "cell_type": "markdown",
      "source": [
        "### 🧪 Try It Yourself\n",
        "\n",
        "- Try `g = sin(x)*exp(x)`. What is the derivative?\n",
        "- Try `g = cos(x)**2 + sin(x)**2`. What is the derivative? Why?\n"
      ],
      "metadata": {
        "id": "Ghkct8hkixmq"
      }
    },
    {
      "cell_type": "markdown",
      "source": [
        "## 📊 Bonus Activity: Plotting a Function and Its Derivative\n",
        "\n",
        "We'll use `matplotlib` to plot a symbolic function and its derivative.\n"
      ],
      "metadata": {
        "id": "i6bY5_fwi33-"
      }
    },
    {
      "cell_type": "code",
      "source": [
        "import numpy as np\n",
        "import matplotlib.pyplot as plt\n",
        "from sympy import lambdify\n",
        "\n",
        "f_sym = x**3 - 3*x**2 + 4*x - 2\n",
        "f_prime_sym = diff(f_sym, x)\n",
        "\n",
        "f_num = lambdify(x, f_sym, modules=['numpy'])\n",
        "f_prime_num = lambdify(x, f_prime_sym, modules=['numpy'])\n",
        "\n",
        "x_vals = np.linspace(-2, 4, 100)\n",
        "y_vals = f_num(x_vals)\n",
        "y_prime_vals = f_prime_num(x_vals)\n",
        "\n",
        "plt.figure(figsize=(10, 5))\n",
        "plt.plot(x_vals, y_vals, label='f(x)', linewidth=2)\n",
        "plt.plot(x_vals, y_prime_vals, label=\"f'(x)\", linestyle='--', linewidth=2)\n",
        "plt.title(\"Function and Its Derivative\")\n",
        "plt.xlabel(\"x\")\n",
        "plt.ylabel(\"y\")\n",
        "plt.legend()\n",
        "plt.grid(True)\n",
        "plt.show()"
      ],
      "metadata": {
        "colab": {
          "base_uri": "https://localhost:8080/",
          "height": 487
        },
        "id": "WvZsx242i68l",
        "outputId": "1c8c0a39-673f-4ad6-8272-148ac1ecc250"
      },
      "execution_count": null,
      "outputs": [
        {
          "output_type": "display_data",
          "data": {
            "text/plain": [
              "<Figure size 1000x500 with 1 Axes>"
            ],
            "image/png": "[encoded data removed]"
          },
          "metadata": {}
        }
      ]
    }
  ]
}