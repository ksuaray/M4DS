{
  "nbformat": 4,
  "nbformat_minor": 0,
  "metadata": {
    "colab": {
      "provenance": [],
      "authorship_tag": "ABX9TyOhdBniS7h9jfoSQT1CVMn/",
      "include_colab_link": true
    },
    "kernelspec": {
      "name": "python3",
      "display_name": "Python 3"
    },
    "language_info": {
      "name": "python"
    }
  },
  "cells": [
    {
      "cell_type": "markdown",
      "metadata": {
        "id": "view-in-github",
        "colab_type": "text"
      },
      "source": [
        "<a href=\"https://colab.research.google.com/github/ksuaray/M4DS/blob/main/MDS1_1_Introduction_and_Overview.ipynb\" target=\"_parent\"><img src=\"https://colab.research.google.com/assets/colab-badge.svg\" alt=\"Open In Colab\"/></a>"
      ]
    },
    {
      "cell_type": "markdown",
      "source": [
        "#Introduction"
      ],
      "metadata": {
        "id": "QN9pv6C6cy1r"
      }
    },
    {
      "cell_type": "markdown",
      "source": [
        "This course is meant to provide the mathematical and statistical foundations for undergraduate studies in data science and machine learning. The greatest, most broadly applicable need for 21st century learners is data literacy. Information is data, and it is being generated at a [dizzying pace](https://engineeringonline.ucr.edu/blog/data-scientist-shortage/). The sources are multiple (from personal wearables to social networks and weather systems spanning continents to sattelite imagery from distant galaxies. The nature of the data is just as varied, from numerical to text, image to audio. So the field of statistics - the study of the collection, organization, summary and analysis of data - must undergo an evolution in order to meet the moment. That evolution is in the form of data science and machine learning (DS+ML). Just as there are fundamental mathematical principles that undergird the theory and practice of classical statistical analysis, the same can be said of DS+ML. This course aims to provide an introduction to these mathematical underpinnings in the context of the problem solving challenges that define these new fields. This contextualized approach, in addition to the emphasis on probabilistic thinking, are the primary reasons for the creation of a new course whose topics overlap with the traditional calculus sequence, but is significantly different.\n",
        "\n",
        "The other consideration that necessitates a distinct course from the traditional calculus sequnce is the fact that the nature of the data to be analyzed - not to speak of it's sheer volume - necessitates the use of computers to execute even the most rudimentary tasks. For this enterprise, the computer is not merely a novelty that can be used to illustrate that which is most effectively learned by hand. Instead, the machine is the essential tool for the design and implementation of fundamental procedures. Indeed the architecture and logic of computers are just as instrumental in informing how the academic disciplines of DS+ML have developed as mathematics and statistics are. Thus this course will emphasize the exploration of mathematics and statistics in a computing environment.\n",
        "\n",
        "The data deluge described above, along with modern challenges of artificial intelligence (computer vision, natural language processing, etc) have driven the surge of interest in DS+ML, as well as the importance of incorporating knowledge of these topics in the undergraduate curriculum. On the other hand, for each breakthrough, there are existential challenges this same technology poses. Algorithmic bias born of inadequately trained models causes communities of color to be negatively impacted by the DS+ML use by law enforcement and medical establishments. Generative large language models can hinder mental growth as much as they can support it. The third aspet of this course is the use of modern challenges to frame the need for the methods discussed."
      ],
      "metadata": {
        "id": "4GA20Hgac-wJ"
      }
    },
    {
      "cell_type": "markdown",
      "source": [
        "#Catalog Description (in progress)"
      ],
      "metadata": {
        "id": "5KZ3LhM_dnCc"
      }
    },
    {
      "cell_type": "markdown",
      "source": [
        "MATH 181 – Mathematics for Data Science I\n",
        "\n",
        "(3 units)\n",
        "\n",
        "Prerequisite: A grade of “C” or better in either MATH 112B or MATH 113, or appropriate CSULB Algebra and Calculus Placement.  \n",
        "\n",
        "Limits, continuity and derivatives. Exponential and logarithmic functions. Iterative methods.  Introduction to integration. Probability functions and resampling techniques. Using Computer Algebra Systems such as SymPy.  Emphasis on applications of mathematical procedures for data science including graphing, approximation and optimization.\n",
        "\n",
        "Both grading options. (Lecture 2 hours, Activity 2 hours) Not open for credit to students with credit in MATH 119A or MATH 122.\n",
        "\n",
        "General Education: Lower Division B - Scientific Inquiry and Quantitative Reasoning"
      ],
      "metadata": {
        "id": "-L4222XzdseB"
      }
    },
    {
      "cell_type": "markdown",
      "source": [
        "#Topic Overview: VARIOSA"
      ],
      "metadata": {
        "id": "cCacbfITluSG"
      }
    },
    {
      "cell_type": "markdown",
      "source": [
        "\n",
        "Visualization\n",
        "\n",
        "Approximation\n",
        "\n",
        "Randomization\n",
        "\n",
        "Iteration\n",
        "\n",
        "Optimization\n",
        "\n",
        "Symbolic Manipulation\n",
        "\n",
        "Aggregation\n",
        "\n"
      ],
      "metadata": {
        "id": "72AYGWpOlq3j"
      }
    },
    {
      "cell_type": "code",
      "source": [],
      "metadata": {
        "id": "gJ7jSxIkdmeL"
      },
      "execution_count": null,
      "outputs": []
    },
    {
      "cell_type": "code",
      "execution_count": null,
      "metadata": {
        "id": "eB_-Rxbucw--"
      },
      "outputs": [],
      "source": []
    }
  ]
}