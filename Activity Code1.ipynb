{
 "cells": [
  {
   "cell_type": "code",
   "execution_count": 1,
   "id": "81640ac9-bf79-4c33-8dd4-81923143a182",
   "metadata": {},
   "outputs": [],
   "source": [
    "import importlib.util\n",
    "import sys\n",
    "import subprocess\n",
    "\n",
    "def install_if_missing(package):\n",
    "    if importlib.util.find_spec(package) is None:\n",
    "        subprocess.check_call([sys.executable, \"-m\", \"pip\", \"install\", package])\n",
    "\n",
    "packages = ['sympy']\n",
    "for pkg in packages:\n",
    "    install_if_missing(pkg)"
   ]
  },
  {
   "cell_type": "code",
   "execution_count": 10,
   "id": "dee3ff5c",
   "metadata": {},
   "outputs": [
    {
     "name": "stdout",
     "output_type": "stream",
     "text": [
      "Declared symbols: x y\n",
      "Sum: x + y\n",
      "Product: x*y\n",
      "Simplified expression: x**2 + 2*x*y + y**2\n",
      "Factroing expressing: (x + y)**2\n",
      "Expression after substituting x=1: y**2 + 2*y + 1\n",
      "Expression after substituting x=1 and y=2: 9\n"
     ]
    }
   ],
   "source": [
    "# Unified Python Code for Symbolic Calculus Tutorial Using SymPy\n",
    "\n",
    "# Activity 1: Setting Up Python and SymPy, and Basic Mathematical Operations\n",
    "from sympy import symbols, limit, simplify, factor,solve, sin, cos, exp, diff\n",
    "\n",
    "# Declaring symbols\n",
    "x, y = symbols('x y')\n",
    "print(\"Declared symbols:\", x, y)\n",
    "\n",
    "# Arithmetic operations\n",
    "sum_expr = x + y\n",
    "product_expr = x * y\n",
    "print(\"Sum:\", sum_expr)\n",
    "print(\"Product:\", product_expr)\n",
    "\n",
    "# Simplifying expressions\n",
    "expr = x**2 + 2*x*y + y**2\n",
    "simplified_expr = simplify(expr)\n",
    "print(\"Simplified expression:\", simplified_expr)\n",
    "factoring_expr = factor(expr)\n",
    "print(\"Factroing expressing:\", factoring_expr)\n",
    "\n",
    "# Substitution\n",
    "evaluated_expr = expr.subs(x, 1)\n",
    "print(\"Expression after substituting x=1:\", evaluated_expr)\n",
    "\n",
    "evaluated_expr2 = expr.subs({x: 1, y: 2})\n",
    "print(\"Expression after substituting x=1 and y=2:\", evaluated_expr2)"
   ]
  },
  {
   "cell_type": "code",
   "execution_count": 12,
   "id": "2693d6c0",
   "metadata": {},
   "outputs": [
    {
     "name": "stdout",
     "output_type": "stream",
     "text": [
      "Limit of the expression tends to 0 : y**2\n",
      "First derivative: 3*x**2 - 6*x + 4\n",
      "Second derivative: 6*(x - 1)\n",
      "Value of the first derivative at x=1: 1\n",
      "First derivative of g: exp(x) - sin(x) + cos(x)\n",
      "Second derivative of g: exp(x) - sin(x) - cos(x)\n",
      "Value of the first derivative of g at x=0: 2\n"
     ]
    }
   ],
   "source": [
    "# Activity 2: Derivatives and Critical Points\n",
    "\n",
    "# Differentiation\n",
    "f = x**3 - 3*x**2 + 4*x - 2\n",
    "\n",
    "# Use sympy.limit() method \n",
    "limit_expr = limit(expr, x, 0) \n",
    "print(\"Limit of the expression tends to 0 : {}\".format(limit_expr)) \n",
    "\n",
    "first_derivative = diff(f, x)\n",
    "second_derivative = diff(f, x, 2)\n",
    "print(\"First derivative:\", first_derivative)\n",
    "print(\"Second derivative:\", second_derivative)\n",
    "\n",
    "# Evaluation of derivatives\n",
    "value_at_1 = first_derivative.subs(x, 1)\n",
    "print(\"Value of the first derivative at x=1:\", value_at_1)\n",
    "\n",
    "# Trigonometric and exponential derivatives\n",
    "g = sin(x) + cos(x) + exp(x)\n",
    "first_derivative_g = diff(g, x)\n",
    "second_derivative_g = diff(g, x, 2)\n",
    "print(\"First derivative of g:\", first_derivative_g)\n",
    "print(\"Second derivative of g:\", second_derivative_g)\n",
    "value_at_0 = first_derivative_g.subs(x, 0)\n",
    "print(\"Value of the first derivative of g at x=0:\", value_at_0)"
   ]
  },
  {
   "cell_type": "code",
   "execution_count": null,
   "id": "4524b7fa",
   "metadata": {},
   "outputs": [],
   "source": []
  }
 ],
 "metadata": {
  "kernelspec": {
   "display_name": "Python 3 (ipykernel)",
   "language": "python",
   "name": "python3"
  },
  "language_info": {
   "codemirror_mode": {
    "name": "ipython",
    "version": 3
   },
   "file_extension": ".py",
   "mimetype": "text/x-python",
   "name": "python",
   "nbconvert_exporter": "python",
   "pygments_lexer": "ipython3",
   "version": "3.12.2"
  }
 },
 "nbformat": 4,
 "nbformat_minor": 5
}
