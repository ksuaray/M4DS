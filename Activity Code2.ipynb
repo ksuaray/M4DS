{
 "cells": [
  {
   "cell_type": "code",
   "execution_count": 1,
   "id": "dee3ff5c",
   "metadata": {},
   "outputs": [
    {
     "name": "stdout",
     "output_type": "stream",
     "text": [
      "Declared symbols: x y\n"
     ]
    }
   ],
   "source": [
    "from sympy import symbols, limit, simplify, integrate, diff, solve, sin, cos, exp\n",
    "\n",
    "# Declaring symbols\n",
    "x, y = symbols('x y')\n",
    "print(\"Declared symbols:\", x, y)"
   ]
  },
  {
   "cell_type": "code",
   "execution_count": 11,
   "id": "02bac5d8-6de5-4d94-9ab9-606d874caf75",
   "metadata": {},
   "outputs": [
    {
     "name": "stdout",
     "output_type": "stream",
     "text": [
      "First derivative: 3*x**2 - 6*x + 4\n",
      "Second derivative: 6*(x - 1)\n",
      "Critical points: [1 - sqrt(3)*I/3, 1 + sqrt(3)*I/3]\n",
      "Value of the first derivative at x=1: 1\n"
     ]
    }
   ],
   "source": [
    "# Activity 2: Derivatives and Critical Points\n",
    "\n",
    "# Differentiation\n",
    "f = x**3 - 3*x**2 + 4*x - 2\n",
    "\n",
    "first_derivative = diff(f, x)\n",
    "second_derivative = diff(f, x, 2)\n",
    "print(\"First derivative:\", first_derivative)\n",
    "print(\"Second derivative:\", second_derivative)\n",
    "\n",
    "# Critical points\n",
    "critical_points = solve(first_derivative, x)\n",
    "print(\"Critical points:\", critical_points)\n",
    "\n",
    "# Evaluation of derivatives\n",
    "value_at_1 = first_derivative.subs(x, 1)\n",
    "print(\"Value of the first derivative at x=1:\", value_at_1)"
   ]
  },
  {
   "cell_type": "code",
   "execution_count": 13,
   "id": "9ed46678-8f15-4009-b634-55a35bfd8892",
   "metadata": {},
   "outputs": [
    {
     "name": "stdout",
     "output_type": "stream",
     "text": [
      "First derivative of g: exp(x) - sin(x) + cos(x)\n",
      "Second derivative of g: exp(x) - sin(x) - cos(x)\n"
     ]
    },
    {
     "ename": "NotImplementedError",
     "evalue": "multiple generators [cos(x), exp(x), sin(x)]\nNo algorithms are implemented to solve equation exp(x) - sin(x) + cos(x)",
     "output_type": "error",
     "traceback": [
      "\u001b[0;31m---------------------------------------------------------------------------\u001b[0m",
      "\u001b[0;31mNotImplementedError\u001b[0m                       Traceback (most recent call last)",
      "Cell \u001b[0;32mIn[13], line 9\u001b[0m\n\u001b[1;32m      6\u001b[0m \u001b[38;5;28mprint\u001b[39m(\u001b[38;5;124m\"\u001b[39m\u001b[38;5;124mFirst derivative of g:\u001b[39m\u001b[38;5;124m\"\u001b[39m, first_derivative_g)\n\u001b[1;32m      7\u001b[0m \u001b[38;5;28mprint\u001b[39m(\u001b[38;5;124m\"\u001b[39m\u001b[38;5;124mSecond derivative of g:\u001b[39m\u001b[38;5;124m\"\u001b[39m, second_derivative_g)\n\u001b[0;32m----> 9\u001b[0m critical_points_g \u001b[38;5;241m=\u001b[39m solve(first_derivative_g, x)\n\u001b[1;32m     10\u001b[0m \u001b[38;5;28mprint\u001b[39m(\u001b[38;5;124m\"\u001b[39m\u001b[38;5;124mCritical points:\u001b[39m\u001b[38;5;124m\"\u001b[39m, critical_points_g)\n",
      "File \u001b[0;32m/opt/anaconda3/lib/python3.12/site-packages/sympy/solvers/solvers.py:1145\u001b[0m, in \u001b[0;36msolve\u001b[0;34m(f, *symbols, **flags)\u001b[0m\n\u001b[1;32m   1143\u001b[0m         solution \u001b[38;5;241m=\u001b[39m _solve_undetermined(f[\u001b[38;5;241m0\u001b[39m], symbols, flags)\n\u001b[1;32m   1144\u001b[0m     \u001b[38;5;28;01mif\u001b[39;00m \u001b[38;5;129;01mnot\u001b[39;00m solution:\n\u001b[0;32m-> 1145\u001b[0m         solution \u001b[38;5;241m=\u001b[39m _solve(f[\u001b[38;5;241m0\u001b[39m], \u001b[38;5;241m*\u001b[39msymbols, \u001b[38;5;241m*\u001b[39m\u001b[38;5;241m*\u001b[39mflags)\n\u001b[1;32m   1146\u001b[0m \u001b[38;5;28;01melse\u001b[39;00m:\n\u001b[1;32m   1147\u001b[0m     linear, solution \u001b[38;5;241m=\u001b[39m _solve_system(f, symbols, \u001b[38;5;241m*\u001b[39m\u001b[38;5;241m*\u001b[39mflags)\n",
      "File \u001b[0;32m/opt/anaconda3/lib/python3.12/site-packages/sympy/solvers/solvers.py:1693\u001b[0m, in \u001b[0;36m_solve\u001b[0;34m(f, *symbols, **flags)\u001b[0m\n\u001b[1;32m   1690\u001b[0m \u001b[38;5;66;03m# ----------- end of fallback ----------------------------\u001b[39;00m\n\u001b[1;32m   1692\u001b[0m \u001b[38;5;28;01mif\u001b[39;00m result \u001b[38;5;129;01mis\u001b[39;00m \u001b[38;5;28;01mFalse\u001b[39;00m:\n\u001b[0;32m-> 1693\u001b[0m     \u001b[38;5;28;01mraise\u001b[39;00m \u001b[38;5;167;01mNotImplementedError\u001b[39;00m(\u001b[38;5;124m'\u001b[39m\u001b[38;5;130;01m\\n\u001b[39;00m\u001b[38;5;124m'\u001b[39m\u001b[38;5;241m.\u001b[39mjoin([msg, not_impl_msg \u001b[38;5;241m%\u001b[39m f]))\n\u001b[1;32m   1695\u001b[0m result \u001b[38;5;241m=\u001b[39m _remove_duplicate_solutions(result)\n\u001b[1;32m   1697\u001b[0m \u001b[38;5;28;01mif\u001b[39;00m flags\u001b[38;5;241m.\u001b[39mget(\u001b[38;5;124m'\u001b[39m\u001b[38;5;124msimplify\u001b[39m\u001b[38;5;124m'\u001b[39m, \u001b[38;5;28;01mTrue\u001b[39;00m):\n",
      "\u001b[0;31mNotImplementedError\u001b[0m: multiple generators [cos(x), exp(x), sin(x)]\nNo algorithms are implemented to solve equation exp(x) - sin(x) + cos(x)"
     ]
    }
   ],
   "source": [
    "# Trigonometric and exponential derivatives\n",
    "g = sin(x) + cos(x) + exp(x)\n",
    "\n",
    "first_derivative_g = diff(g, x)\n",
    "second_derivative_g = diff(g, x, 2)\n",
    "print(\"First derivative of g:\", first_derivative_g)\n",
    "print(\"Second derivative of g:\", second_derivative_g)\n",
    "\n",
    "critical_points_g = solve(first_derivative_g, x)\n",
    "print(\"Critical points:\", critical_points_g)"
   ]
  },
  {
   "cell_type": "code",
   "execution_count": 9,
   "id": "a7ca71f0",
   "metadata": {},
   "outputs": [
    {
     "name": "stdout",
     "output_type": "stream",
     "text": [
      "Indefinite integral: x**3/3\n",
      "Definite integral from 0 to 2: 8/3\n",
      "Definite integral from 1 to 3: 26/3\n",
      "Integral of sin(t) from 0 to pi: 1.99999999999648\n"
     ]
    }
   ],
   "source": [
    "# Antiderivatives and Integration\n",
    "\n",
    "# Indefinite integral\n",
    "integral_indef = integrate(x**2, x)\n",
    "print(\"Indefinite integral:\", integral_indef)\n",
    "\n",
    "# Definite integral\n",
    "integral_def = integrate(x**2, (x, 0, 2))\n",
    "print(\"Definite integral from 0 to 2:\", integral_def)\n",
    "\n",
    "# Definite integral with different bounds\n",
    "integral_eval = integrate(x**2, (x, 1, 3))\n",
    "print(\"Definite integral from 1 to 3:\", integral_eval)\n",
    "\n",
    "# Integration of trigonometric functions\n",
    "t = symbols('t')\n",
    "integral_trig = integrate(sin(t), (t, 0, 3.14159))\n",
    "print(\"Integral of sin(t) from 0 to pi:\", integral_trig)"
   ]
  },
  {
   "cell_type": "code",
   "execution_count": null,
   "id": "4524b7fa",
   "metadata": {},
   "outputs": [],
   "source": []
  }
 ],
 "metadata": {
  "kernelspec": {
   "display_name": "Python 3 (ipykernel)",
   "language": "python",
   "name": "python3"
  },
  "language_info": {
   "codemirror_mode": {
    "name": "ipython",
    "version": 3
   },
   "file_extension": ".py",
   "mimetype": "text/x-python",
   "name": "python",
   "nbconvert_exporter": "python",
   "pygments_lexer": "ipython3",
   "version": "3.12.2"
  }
 },
 "nbformat": 4,
 "nbformat_minor": 5
}
